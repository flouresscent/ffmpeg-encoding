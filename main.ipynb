{
 "cells": [
  {
   "cell_type": "code",
   "execution_count": 19,
   "metadata": {},
   "outputs": [],
   "source": [
    "import os\n",
    "\n",
    "from ffmpeg import FFmpeg, Progress\n",
    "import ffprobe\n",
    "import subprocess\n",
    "\n",
    "from matplotlib import pyplot as plt\n",
    "from skimage import measure\n",
    "import numpy as np\n",
    "import pandas as pd\n",
    "import json\n",
    "import cv2"
   ]
  },
  {
   "cell_type": "code",
   "execution_count": 20,
   "metadata": {},
   "outputs": [],
   "source": [
    "import warnings\n",
    "warnings.filterwarnings('ignore')"
   ]
  },
  {
   "cell_type": "code",
   "execution_count": 21,
   "metadata": {},
   "outputs": [],
   "source": [
    "# Задаем основные параметры.\n",
    "input_path = 'src/original.mp4'\n",
    "codec = 'libx265'\n",
    "\n",
    "encoded_files_size = []"
   ]
  },
  {
   "cell_type": "code",
   "execution_count": 22,
   "metadata": {},
   "outputs": [
    {
     "name": "stdout",
     "output_type": "stream",
     "text": [
      "[notice] Размер исходного файла 4.770 Mb\n"
     ]
    }
   ],
   "source": [
    "res = subprocess.check_output(['ffprobe', '-i', input_path, '-v', 'quiet', '-print_format', 'json', '-show_format', '-show_streams'])\n",
    "\n",
    "data = json.loads(res)\n",
    "size = int(data['format']['size']) / (1024 * 1024)\n",
    "\n",
    "encoded_files_size.append(size)\n",
    "\n",
    "print('[notice] Размер исходного файла {:.3f} Mb'.format(size))"
   ]
  },
  {
   "cell_type": "code",
   "execution_count": 23,
   "metadata": {},
   "outputs": [],
   "source": [
    "keys = ['frame_type', 'codec_type', 'frame_num', 'pts', 'pts_time', 'best_effort_timestamp', \n",
    "        'best_effort_timestamp_time', 'pkt_duration', 'pkt_duration_time', 'pkt_size', 'width', \n",
    "        'height', 'pix_fmt', 'sample_aspect_ratio', 'pict_type', 'coded_picture_number', \n",
    "        'display_picture_number', 'interlaced_frame', 'top_field_first', 'repeat_pict', \n",
    "        'color_range', 'color_space', 'color_transfer', 'color_primaries', 'chroma_location', \n",
    "        'timecode', 'refs', 'is_avc', 'nal_length_size']"
   ]
  },
  {
   "attachments": {},
   "cell_type": "markdown",
   "metadata": {},
   "source": [
    "### Задание 1.\n",
    "Необходимо получить фрагмент, закодированный с использованием только предсказанием вперед (P-кадры) на один кадр."
   ]
  },
  {
   "cell_type": "code",
   "execution_count": 24,
   "metadata": {},
   "outputs": [
    {
     "name": "stdout",
     "output_type": "stream",
     "text": [
      "[notice] ✔ Successful video file processing\n"
     ]
    }
   ],
   "source": [
    "output_path = 'res/task-1.mp4'\n",
    "\n",
    "cmd = [\n",
    "    # Вызываем утилиту ffmpeg для кодирования видео.\n",
    "    'ffmpeg',\n",
    "    # Перезаписываем выходной файл, если он уже существует.\n",
    "    '-y',\n",
    "    # Исходное видео.\n",
    "    '-i', input_path,\n",
    "    # Кодек libx265 для видео.\n",
    "    '-c:v', codec,\n",
    "    # Задает количество ссылок на изображения для использования при кодировании.\n",
    "    '-refs', '1',\n",
    "    # Устанавливает параметры кодирования x265, такие как интервал\n",
    "    # ключевых кадров и количество B-кадров, используемых для предсказания.\n",
    "    '-x265-params', 'keyint=2',\n",
    "    # Указывает на использование только P-кадров для кодирования видео\n",
    "    '-coder', '0',\n",
    "    # Указывает на отсутствие B-кадров\n",
    "    '-bf', '0',\n",
    "    # Выходной файл.\n",
    "    output_path,\n",
    "]\n",
    "\n",
    "res = subprocess.call(cmd)\n",
    "\n",
    "if res == 0:\n",
    "    print('[notice] ✔ Successful video file processing')\n",
    "else:\n",
    "    print('[notice] Something went wrong :(')"
   ]
  },
  {
   "attachments": {},
   "cell_type": "markdown",
   "metadata": {},
   "source": [
    "##### Проверка"
   ]
  },
  {
   "cell_type": "code",
   "execution_count": 25,
   "metadata": {},
   "outputs": [
    {
     "data": {
      "text/plain": [
       "0    I\n",
       "0    P\n",
       "0    I\n",
       "0    P\n",
       "0    I\n",
       "    ..\n",
       "0    I\n",
       "0    P\n",
       "0    I\n",
       "0    P\n",
       "0    I\n",
       "Name: top_field_first, Length: 395, dtype: object"
      ]
     },
     "execution_count": 25,
     "metadata": {},
     "output_type": "execute_result"
    }
   ],
   "source": [
    "cmd = ['ffprobe', '-show_frames', '-print_format', 'csv', output_path]\n",
    "result = subprocess.run(cmd, capture_output=True, text=True)\n",
    "lines = result.stdout.split('\\n')\n",
    "\n",
    "data = pd.DataFrame()\n",
    "for line in lines:\n",
    "    if 'video' in line:\n",
    "        values = line.split(',')\n",
    "        d = {keys[i]: values[i] for i in range(len(keys))}\n",
    "        data = data.append([d])\n",
    "\n",
    "data['top_field_first']\n"
   ]
  },
  {
   "cell_type": "code",
   "execution_count": 26,
   "metadata": {},
   "outputs": [
    {
     "name": "stdout",
     "output_type": "stream",
     "text": [
      "[notice] Размер полученного файла 5.944 Mb\n"
     ]
    }
   ],
   "source": [
    "res = subprocess.check_output(['ffprobe', '-i', output_path, '-v', 'quiet', '-print_format', 'json', '-show_format', '-show_streams'])\n",
    "\n",
    "data = json.loads(res)\n",
    "size = int(data['format']['size']) / (1024 * 1024)\n",
    "\n",
    "encoded_files_size.append(size)\n",
    "\n",
    "print('[notice] Размер полученного файла {:.3f} Mb'.format(size))"
   ]
  },
  {
   "attachments": {},
   "cell_type": "markdown",
   "metadata": {},
   "source": [
    "### Задание 2.\n",
    "Получить фрагмент, закодированный с использованием только предсказанием вперед (P-кадры) на четыре кадра максимально."
   ]
  },
  {
   "cell_type": "code",
   "execution_count": 27,
   "metadata": {},
   "outputs": [
    {
     "name": "stdout",
     "output_type": "stream",
     "text": [
      "[notice] ✔ Successful video file processing\n"
     ]
    }
   ],
   "source": [
    "output_path = 'res/task-2.mp4'\n",
    "\n",
    "cmd = [\n",
    "    # Вызываем утилиту ffmpeg для кодирования видео.\n",
    "    'ffmpeg',                               \n",
    "    # Перезаписываем выходной файл, если он уже существует.\n",
    "    '-y',                                   \n",
    "    # Исходное видео.\n",
    "    '-i', input_path,\n",
    "    # Кодек libx265 для видео.\n",
    "    '-c:v', codec,\n",
    "    # Количество P-кадров, на которые может ссылаться B-кадр\n",
    "    # (если они используются).\n",
    "    '-refs', '4',\n",
    "    # Параметры кодека x265, где keyint=4 указывает, что I- и P-кадры\n",
    "    # будут создаваться каждые 4 кадра, а bframes=0 говорит, что\n",
    "    # используются только P-кадры без B-кадров.\n",
    "    '-x265-params', 'keyint=4:bframes=0',\n",
    "    # Копирование аудио потока без изменений.\n",
    "    '-c:a', 'copy',\n",
    "    # Выходной файл.\n",
    "    output_path,\n",
    "]\n",
    "\n",
    "res = subprocess.call(cmd)\n",
    "\n",
    "if res == 0:\n",
    "    print('[notice] ✔ Successful video file processing')\n",
    "else:\n",
    "    print('[notice] Something went wrong :(')"
   ]
  },
  {
   "attachments": {},
   "cell_type": "markdown",
   "metadata": {},
   "source": [
    "##### Проверка"
   ]
  },
  {
   "cell_type": "code",
   "execution_count": 28,
   "metadata": {},
   "outputs": [
    {
     "data": {
      "text/plain": [
       "0    I\n",
       "0    P\n",
       "0    P\n",
       "0    P\n",
       "0    I\n",
       "    ..\n",
       "0    P\n",
       "0    P\n",
       "0    I\n",
       "0    P\n",
       "0    P\n",
       "Name: top_field_first, Length: 395, dtype: object"
      ]
     },
     "execution_count": 28,
     "metadata": {},
     "output_type": "execute_result"
    }
   ],
   "source": [
    "cmd = ['ffprobe', '-show_frames', '-print_format', 'csv', output_path]\n",
    "result = subprocess.run(cmd, capture_output=True, text=True)\n",
    "lines = result.stdout.split('\\n')\n",
    "\n",
    "data = pd.DataFrame()\n",
    "for line in lines:\n",
    "    if 'video' in line:\n",
    "        values = line.split(',')\n",
    "        d = {keys[i]: values[i] for i in range(len(keys))}\n",
    "        data = data.append([d])\n",
    "\n",
    "data['top_field_first']"
   ]
  },
  {
   "cell_type": "code",
   "execution_count": 29,
   "metadata": {},
   "outputs": [
    {
     "name": "stdout",
     "output_type": "stream",
     "text": [
      "[notice] Размер полученного файла 3.737 Mb\n"
     ]
    }
   ],
   "source": [
    "res = subprocess.check_output(['ffprobe', '-i', output_path, '-v', 'quiet', '-print_format', 'json', '-show_format', '-show_streams'])\n",
    "\n",
    "data = json.loads(res)\n",
    "size = int(data['format']['size']) / (1024 * 1024)\n",
    "\n",
    "encoded_files_size.append(size)\n",
    "\n",
    "print('[notice] Размер полученного файла {:.3f} Mb'.format(size))"
   ]
  },
  {
   "attachments": {},
   "cell_type": "markdown",
   "metadata": {},
   "source": [
    "### Задание 3.\n",
    "Получить фрагмент, закодированный с использованием только предсказанием вперед и назад (P и B -кадры)."
   ]
  },
  {
   "cell_type": "code",
   "execution_count": 30,
   "metadata": {},
   "outputs": [
    {
     "name": "stdout",
     "output_type": "stream",
     "text": [
      "[notice] ✔ Successful video file processing\n"
     ]
    }
   ],
   "source": [
    "output_path = 'res/task-3.mp4'\n",
    "\n",
    "cmd = [\n",
    "    # Вызываем утилиту ffmpeg для кодирования видео.\n",
    "    'ffmpeg',\n",
    "    # Перезаписываем выходной файл, если он уже существует.\n",
    "    '-y',\n",
    "    # Исходное видео.\n",
    "    '-i', input_path,\n",
    "    # Кодек libx265 для видео.\n",
    "    '-c:v', codec,\n",
    "    # Задает количество ссылок на изображения для использования при кодировании.\n",
    "    '-refs', '1',\n",
    "    # Устанавливает параметры кодирования x265, такие как интервал\n",
    "    # ключевых кадров и количество B-кадров, используемых для предсказания.\n",
    "    '-x265-params','keyint=24:bframes=2',\n",
    "    # Копирование аудио потока без изменений.\n",
    "    '-c:a', 'copy',\n",
    "    # Выходной файл.\n",
    "    output_path\n",
    "]\n",
    "\n",
    "res = subprocess.call(cmd)\n",
    "\n",
    "if res == 0:\n",
    "    print('[notice] ✔ Successful video file processing')\n",
    "else:\n",
    "    print('[notice] Something went wrong :(')"
   ]
  },
  {
   "attachments": {},
   "cell_type": "markdown",
   "metadata": {},
   "source": [
    "##### Проверка"
   ]
  },
  {
   "cell_type": "code",
   "execution_count": 31,
   "metadata": {},
   "outputs": [
    {
     "data": {
      "text/plain": [
       "0    I\n",
       "0    B\n",
       "0    B\n",
       "0    P\n",
       "0    B\n",
       "    ..\n",
       "0    B\n",
       "0    P\n",
       "0    B\n",
       "0    B\n",
       "0    P\n",
       "Name: top_field_first, Length: 395, dtype: object"
      ]
     },
     "execution_count": 31,
     "metadata": {},
     "output_type": "execute_result"
    }
   ],
   "source": [
    "cmd = ['ffprobe', '-show_frames', '-print_format', 'csv', output_path]\n",
    "result = subprocess.run(cmd, capture_output=True, text=True)\n",
    "lines = result.stdout.split('\\n')\n",
    "\n",
    "data = pd.DataFrame()\n",
    "for line in lines:\n",
    "    if 'video' in line:\n",
    "        values = line.split(',')\n",
    "        d = {keys[i]: values[i] for i in range(len(keys))}\n",
    "        data = data.append([d])\n",
    "\n",
    "data['top_field_first']"
   ]
  },
  {
   "cell_type": "code",
   "execution_count": 32,
   "metadata": {},
   "outputs": [
    {
     "name": "stdout",
     "output_type": "stream",
     "text": [
      "[notice] Размер полученного файла 1.499 Mb\n"
     ]
    }
   ],
   "source": [
    "res = subprocess.check_output(['ffprobe', '-i', output_path, '-v', 'quiet', '-print_format', 'json', '-show_format', '-show_streams'])\n",
    "\n",
    "data = json.loads(res)\n",
    "size = int(data['format']['size']) / (1024 * 1024)\n",
    "\n",
    "encoded_files_size.append(size)\n",
    "\n",
    "print('[notice] Размер полученного файла {:.3f} Mb'.format(size))"
   ]
  },
  {
   "attachments": {},
   "cell_type": "markdown",
   "metadata": {},
   "source": [
    "### Задание 4.\n",
    "Оценить качество полученного видеоряда и сравнить поведение графиков качества и объема видеофайлов в зависимости от вида применяемого кодирования."
   ]
  },
  {
   "cell_type": "code",
   "execution_count": 33,
   "metadata": {},
   "outputs": [],
   "source": [
    "original_file = 'src/original.mp4'\n",
    "encoded_files = ['res/task-1.mp4', 'res/task-2.mp4', 'res/task-3.mp4']"
   ]
  },
  {
   "cell_type": "code",
   "execution_count": 34,
   "metadata": {},
   "outputs": [
    {
     "name": "stdout",
     "output_type": "stream",
     "text": [
      "[notice] SSIM score for res/task-1.mp4: 0.9804\n",
      "[notice] SSIM score for res/task-2.mp4: 0.9814\n",
      "[notice] SSIM score for res/task-3.mp4: 0.9799\n"
     ]
    }
   ],
   "source": [
    "ssim_plot_data = []\n",
    "\n",
    "# Загрузка оригинального видео.\n",
    "original_cap = cv2.VideoCapture(original_file)\n",
    "original_frames = []\n",
    "while original_cap.isOpened():\n",
    "    ret, frame = original_cap.read()\n",
    "    if not ret:\n",
    "        break\n",
    "    original_frames.append(frame)\n",
    "original_cap.release()\n",
    "\n",
    "# Вычисление SSIM для каждого закодированного видео.\n",
    "for encoded_file in encoded_files:\n",
    "    encoded_cap = cv2.VideoCapture(encoded_file)\n",
    "    encoded_frames = []\n",
    "    while encoded_cap.isOpened():\n",
    "        ret, frame = encoded_cap.read()\n",
    "        if not ret:\n",
    "            break\n",
    "        encoded_frames.append(frame)\n",
    "    encoded_cap.release()\n",
    "    \n",
    "    total_ssim = 0\n",
    "    for i in range(len(original_frames)):\n",
    "        original_gray = cv2.cvtColor(original_frames[i], cv2.COLOR_BGR2GRAY)\n",
    "        encoded_gray = cv2.cvtColor(encoded_frames[i], cv2.COLOR_BGR2GRAY)\n",
    "        ssim_score = measure.compare_ssim(original_gray, encoded_gray, data_range=encoded_gray.max() - encoded_gray.min())\n",
    "        total_ssim += ssim_score\n",
    "\n",
    "    avg_ssim = total_ssim / len(original_frames)\n",
    "    ssim_plot_data.append(avg_ssim)\n",
    "    print(f\"[notice] SSIM score for {encoded_file}: {round(avg_ssim, 4)}\")"
   ]
  },
  {
   "cell_type": "code",
   "execution_count": 35,
   "metadata": {},
   "outputs": [
    {
     "name": "stdout",
     "output_type": "stream",
     "text": [
      "[notice] PSNR for res/task-1.mp4: 38.911973740761105\n",
      "[notice] PSNR for res/task-2.mp4: 39.16994699335448\n",
      "[notice] PSNR for res/task-3.mp4: 38.80319935618616\n"
     ]
    }
   ],
   "source": [
    "psnr_plot_data = []\n",
    "\n",
    "# Загрузка оригинального видео.\n",
    "original_cap = cv2.VideoCapture(original_file)\n",
    "original_frames = []\n",
    "while original_cap.isOpened():\n",
    "    ret, frame = original_cap.read()\n",
    "    if not ret:\n",
    "        break\n",
    "    original_frames.append(frame)\n",
    "original_cap.release()\n",
    "\n",
    "# Вычисление PSNR для каждого закодированного видео.\n",
    "for encoded_file in encoded_files:\n",
    "    encoded_cap = cv2.VideoCapture(encoded_file)\n",
    "    encoded_frames = []\n",
    "    while encoded_cap.isOpened():\n",
    "        ret, frame = encoded_cap.read()\n",
    "        if not ret:\n",
    "            break\n",
    "        encoded_frames.append(frame)\n",
    "    encoded_cap.release()\n",
    "    \n",
    "    total_psnr = 0\n",
    "    for i in range(len(original_frames)):\n",
    "        mse = ((original_frames[i] - encoded_frames[i]) ** 2).mean()\n",
    "        if mse == 0:\n",
    "            psnr = 100\n",
    "        else:\n",
    "            psnr = 10 * np.log10((255 ** 2) / mse)\n",
    "        total_psnr += psnr\n",
    "    avg_psnr = total_psnr / len(original_frames)\n",
    "    psnr_plot_data.append(avg_psnr)\n",
    "    print(f\"[notice] PSNR for {encoded_file}: {avg_psnr}\")"
   ]
  },
  {
   "cell_type": "code",
   "execution_count": 56,
   "metadata": {},
   "outputs": [
    {
     "data": {
      "image/png": "[encoded data removed]",
      "text/plain": [
       "<Figure size 1584x576 with 3 Axes>"
      ]
     },
     "metadata": {
      "needs_background": "light"
     },
     "output_type": "display_data"
    }
   ],
   "source": [
    "original_file = 'src/original.mp4'\n",
    "encoded_files = ['res/task-1.mp4', 'res/task-2.mp4', 'res/task-3.mp4']\n",
    "\n",
    "plt.figure(figsize=(22,8))\n",
    "\n",
    "plt.subplot(1,3,1)\n",
    "plt.title(\"Оценка схожести обработанных видеофайлов с исходным (SSIM)\")\n",
    "plt.xlabel(\"Закодированные файлы\")\n",
    "plt.ylabel(\"SSIM\")\n",
    "plt.ylim([.95, 1])\n",
    "plt.grid()\n",
    "plt.bar(encoded_files, ssim_plot_data, label=\"SSIM\")\n",
    "\n",
    "plt.subplot(1,3,2)\n",
    "plt.title(\"Оценка качества закодированных видеофайлов (PSNR)\")\n",
    "plt.xlabel(\"Закодированные файлы\")\n",
    "plt.ylabel(\"PSNR\")\n",
    "plt.ylim([37, 40])\n",
    "plt.grid()\n",
    "plt.bar(encoded_files, psnr_plot_data, label=\"PSNR\")\n",
    "\n",
    "plt.subplot(1,3,3)\n",
    "plt.title(\"Размер файлов\")\n",
    "plt.xlabel(\"Файлы\")\n",
    "plt.ylabel(\"File size, Mb\")\n",
    "encoded_files.insert(0, 'original.mp4')\n",
    "plt.bar(encoded_files, encoded_files_size, label=\"size\")\n",
    "\n",
    "plt.grid()\n",
    "plt.show()"
   ]
  }
 ],
 "metadata": {
  "kernelspec": {
   "display_name": "Python 3",
   "language": "python",
   "name": "python3"
  },
  "language_info": {
   "codemirror_mode": {
    "name": "ipython",
    "version": 3
   },
   "file_extension": ".py",
   "mimetype": "text/x-python",
   "name": "python",
   "nbconvert_exporter": "python",
   "pygments_lexer": "ipython3",
   "version": "3.7.6"
  },
  "orig_nbformat": 4
 },
 "nbformat": 4,
 "nbformat_minor": 2
}
